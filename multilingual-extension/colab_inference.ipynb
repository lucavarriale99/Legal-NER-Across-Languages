{
 "cells": [
  {
   "cell_type": "code",
   "execution_count": null,
   "metadata": {},
   "outputs": [],
   "source": [
    "%%bash\n",
    "git clone https://github.com/ssoBAekiL/DNLP-2023-24-Legal-NER.git\n",
    "cd DNLP-2023-24-Legal-NER"
   ]
  },
  {
   "cell_type": "code",
   "execution_count": null,
   "metadata": {},
   "outputs": [],
   "source": [
    "!apt install python3.10-venv"
   ]
  },
  {
   "cell_type": "code",
   "execution_count": null,
   "metadata": {},
   "outputs": [],
   "source": [
    "!python3 -m venv NER"
   ]
  },
  {
   "cell_type": "code",
   "execution_count": null,
   "metadata": {},
   "outputs": [],
   "source": [
    "!source NER/bin/activate; pip install -r DNLP-2023-24-Legal-NER/multilingual-extension/requirements.txt"
   ]
  },
  {
   "cell_type": "markdown",
   "metadata": {},
   "source": [
    "## Inference on Spanish dataset"
   ]
  },
  {
   "cell_type": "code",
   "execution_count": null,
   "metadata": {},
   "outputs": [],
   "source": [
    "!pip install gdown\n",
    "# Download model mluke trained on spanish dataset\n",
    "!gdown --folder https://drive.google.com/drive/folders/1nPsA3b9UefwqP8VLQ0D-MC_872ETLbff?usp=sharing -O DNLP-2023-24-Legal-NER/multilingual-extension/results/spanish/studio-ousia\n",
    "# Download model Roberta ner trained on spanish dataset\n",
    "!gdown --folder https://drive.google.com/drive/folders/1k0z09lszwJVw8isCC4IGqh2CXpkaMLcl?usp=sharing -O DNLP-2023-24-Legal-NER/multilingual-extension/results/spanish/PlanTL-GOB-ES"
   ]
  },
  {
   "cell_type": "markdown",
   "metadata": {},
   "source": [
    "Inference with **PlanTL-GOB-ES/roberta-base-bne-capitel-ner** model"
   ]
  },
  {
   "cell_type": "code",
   "execution_count": null,
   "metadata": {},
   "outputs": [],
   "source": [
    "!source NER/bin/activate; cd DNLP-2023-24-Legal-NER/multilingual-extension; python3 inference.py \\\n",
    "    --ds_test_set ../datasets/spanish/spanish_test.json \\\n",
    "    --label_list 'per' 'org' 'loc' 'time' 'legal' \\\n",
    "    --model_base_dir results/spanish \\\n",
    "    --checkpoint_path_list 'PlanTL-GOB-ES/roberta-base-bne-capitel-ner/checkpoint-1060'"
   ]
  },
  {
   "cell_type": "markdown",
   "metadata": {},
   "source": [
    "Inference with **studio-ousia/mluke-base** model"
   ]
  },
  {
   "cell_type": "code",
   "execution_count": null,
   "metadata": {},
   "outputs": [],
   "source": [
    "!source NER/bin/activate; cd DNLP-2023-24-Legal-NER/multilingual-extension; python3 inference.py \\\n",
    "    --ds_test_set ../datasets/spanish/spanish_test.json \\\n",
    "    --label_list 'per' 'org' 'loc' 'time' 'legal' \\\n",
    "    --model_base_dir results/spanish \\\n",
    "    --checkpoint_path_list 'studio-ousia/mluke-base/checkpoint-1060'"
   ]
  },
  {
   "cell_type": "markdown",
   "metadata": {},
   "source": [
    "## Inference on German dataset"
   ]
  },
  {
   "cell_type": "code",
   "execution_count": null,
   "metadata": {},
   "outputs": [],
   "source": [
    "!pip install gdown\n",
    "# Download model mluke trained on german dataset\n",
    "!gdown --folder https://drive.google.com/drive/folders/1JpXqeKrBk0a9aFGaMenlS4D9lncelMNP?usp=sharing -O DNLP-2023-24-Legal-NER/multilingual-extension/results/german/studio-ousia\n",
    "# Download model Bert ner trained on german dataset\n",
    "!gdown --folder https://drive.google.com/drive/folders/1-OE8CrgLCJM3oJwBYIb_cMXYzdXNUhzI?usp=sharing -O DNLP-2023-24-Legal-NER/multilingual-extension/results/german/elenanereiss"
   ]
  },
  {
   "cell_type": "markdown",
   "metadata": {},
   "source": [
    "Inference with **elenanereiss/bert-german-ler** model"
   ]
  },
  {
   "cell_type": "code",
   "execution_count": null,
   "metadata": {},
   "outputs": [],
   "source": [
    "!source NER/bin/activate; cd DNLP-2023-24-Legal-NER/multilingual-extension; python3 inference.py \\\n",
    "    --ds_test_set ../datasets/german/de_test.json \\\n",
    "    --label_list 'LIT' 'LOC' 'NRM' 'ORG' 'PER' 'REG' 'RS' \\\n",
    "    --model_base_dir results/german \\\n",
    "    --checkpoint_path_list 'elenanereiss/bert-german-ler/checkpoint-8345'"
   ]
  },
  {
   "cell_type": "markdown",
   "metadata": {},
   "source": [
    "Inference with **studio-ousia/mluke-base** model"
   ]
  },
  {
   "cell_type": "code",
   "execution_count": null,
   "metadata": {},
   "outputs": [],
   "source": [
    "!source NER/bin/activate; cd DNLP-2023-24-Legal-NER/multilingual-extension; python3 inference.py \\\n",
    "    --ds_test_set ../datasets/german/de_test.json \\\n",
    "    --label_list 'LIT' 'LOC' 'NRM' 'ORG' 'PER' 'REG' 'RS' \\\n",
    "    --model_base_dir results/german \\\n",
    "    --checkpoint_path_list 'studio-ousia/mluke-base/checkpoint-8345'"
   ]
  }
 ],
 "metadata": {
  "kernelspec": {
   "display_name": "Python 3",
   "language": "python",
   "name": "python3"
  },
  "language_info": {
   "codemirror_mode": {
    "name": "ipython",
    "version": 3
   },
   "file_extension": ".py",
   "mimetype": "text/x-python",
   "name": "python",
   "nbconvert_exporter": "python",
   "pygments_lexer": "ipython3",
   "version": "3.9.6"
  }
 },
 "nbformat": 4,
 "nbformat_minor": 2
}
