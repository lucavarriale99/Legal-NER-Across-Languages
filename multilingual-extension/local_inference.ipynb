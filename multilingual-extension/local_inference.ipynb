{
 "cells": [
  {
   "cell_type": "code",
   "execution_count": null,
   "metadata": {},
   "outputs": [],
   "source": [
    "!apt install python3.10-venv"
   ]
  },
  {
   "cell_type": "code",
   "execution_count": null,
   "metadata": {},
   "outputs": [],
   "source": [
    "!python3 -m venv NER"
   ]
  },
  {
   "cell_type": "code",
   "execution_count": null,
   "metadata": {},
   "outputs": [],
   "source": [
    "!source NER/bin/activate; pip install -r requirements.txt"
   ]
  },
  {
   "cell_type": "markdown",
   "metadata": {},
   "source": [
    "## Inference on Spanish dataset"
   ]
  },
  {
   "cell_type": "code",
   "execution_count": null,
   "metadata": {},
   "outputs": [],
   "source": [
    "!source NER/bin/activate; python3 inference.py \\\n",
    "    --ds_test_set '../datasets/spanish/spanish_test.json' \\\n",
    "    --label_list 'per' 'org' 'loc' 'time' 'legal' \\\n",
    "    --checkpoint_path_list 'PlanTL-GOB-ES/roberta-base-bne-capitel-ner/checkpoint-1060'"
   ]
  },
  {
   "cell_type": "markdown",
   "metadata": {},
   "source": [
    "## Inference on German dataset"
   ]
  },
  {
   "cell_type": "code",
   "execution_count": null,
   "metadata": {},
   "outputs": [],
   "source": [
    "!source NER/bin/activate; python3 inference.py \\\n",
    "    --ds_test_set '../datasets/german/de_test.json' \\\n",
    "    --label_list 'LIT' 'LOC' 'NRM' 'ORG' 'PER' 'REG' 'RS' \\\n",
    "    --checkpoint_path_list 'PlanTL-GOB-ES/roberta-base-bne-capitel-ner/checkpoint-1060'"
   ]
  }
 ],
 "metadata": {
  "kernelspec": {
   "display_name": "Python 3",
   "language": "python",
   "name": "python3"
  },
  "language_info": {
   "codemirror_mode": {
    "name": "ipython",
    "version": 3
   },
   "file_extension": ".py",
   "mimetype": "text/x-python",
   "name": "python",
   "nbconvert_exporter": "python",
   "pygments_lexer": "ipython3",
   "version": "3.9.6"
  }
 },
 "nbformat": 4,
 "nbformat_minor": 2
}
