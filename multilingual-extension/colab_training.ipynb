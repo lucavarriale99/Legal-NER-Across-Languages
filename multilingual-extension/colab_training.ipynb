{
 "cells": [
  {
   "cell_type": "code",
   "execution_count": null,
   "metadata": {},
   "outputs": [],
   "source": [
    "%%bash\n",
    "git clone https://github.com/ssoBAekiL/DNLP-2023-24-Legal-NER.git\n",
    "cd DNLP-2023-24-Legal-NER"
   ]
  },
  {
   "cell_type": "code",
   "execution_count": null,
   "metadata": {},
   "outputs": [],
   "source": [
    "!apt install python3.10-venv"
   ]
  },
  {
   "cell_type": "code",
   "execution_count": null,
   "metadata": {},
   "outputs": [],
   "source": [
    "!python3 -m venv NER"
   ]
  },
  {
   "cell_type": "code",
   "execution_count": null,
   "metadata": {},
   "outputs": [],
   "source": [
    "!source NER/bin/activate; pip install -r DNLP-2023-24-Legal-NER/multilingual-extension/requirements.txt"
   ]
  },
  {
   "cell_type": "markdown",
   "metadata": {},
   "source": [
    "## Train models on Spanish dataset"
   ]
  },
  {
   "cell_type": "code",
   "execution_count": null,
   "metadata": {},
   "outputs": [],
   "source": [
    "!source NER/bin/activate; cd DNLP-2023-24-Legal-NER/multilingual-extension; python3 main.py \\\n",
    "    --ds_train_path ../datasets/spanish/spanish_train.json \\\n",
    "    --ds_valid_path ../datasets/spanish/spanish_valid.json \\\n",
    "    --output_folder results/ \\\n",
    "    --batch 32 \\\n",
    "    --num_epochs 5 \\\n",
    "    --lr 1e-4 \\\n",
    "    --weight_decay 0.01 \\\n",
    "    --warmup_ratio 0.06 \\\n",
    "    --label_list 'per' 'org' 'loc' 'time' 'legal' \\\n",
    "    --model_list 'studio-ousia/mluke-base' 'PlanTL-GOB-ES/roberta-base-bne-capitel-ner'\n",
    "    # --resume_checkpoint # Remove comment to recover from checkpoint in folder \"results\""
   ]
  },
  {
   "cell_type": "markdown",
   "metadata": {},
   "source": [
    "## Train models on German dataset"
   ]
  },
  {
   "cell_type": "code",
   "execution_count": null,
   "metadata": {},
   "outputs": [],
   "source": [
    "!source NER/bin/activate; cd DNLP-2023-24-Legal-NER/multilingual-extension; python3 main.py \\\n",
    "    --ds_train_path ../datasets/german/de_train.json \\\n",
    "    --ds_valid_path ../datasets/german/de_validation.json \\\n",
    "    --output_folder results/ \\\n",
    "    --batch 32 \\\n",
    "    --num_epochs 5 \\\n",
    "    --lr 1e-4 \\\n",
    "    --weight_decay 0.01 \\\n",
    "    --warmup_ratio 0.06 \\\n",
    "    --label_list 'LIT' 'LOC' 'NRM' 'ORG' 'PER' 'REG' 'RS' \\\n",
    "    --model_list 'studio-ousia/mluke-base' 'elenanereiss/bert-german-ler'\n",
    "    # --resume_checkpoint # Remove comment to recover from checkpoint in folder \"results\""
   ]
  },
  {
   "cell_type": "markdown",
   "metadata": {},
   "source": [
    "## Train models on English dataset"
   ]
  },
  {
   "cell_type": "code",
   "execution_count": null,
   "metadata": {},
   "outputs": [],
   "source": [
    "!source NER/bin/activate; cd DNLP-2023-24-Legal-NER/multilingual-extension; python3 main.py \\\n",
    "    --ds_train_path ../datasets/english/en_train.json \\\n",
    "    --ds_valid_path ../datasets/english/en_val.json \\\n",
    "    --output_folder results/ \\\n",
    "    --batch 32 \\\n",
    "    --num_epochs 5 \\\n",
    "    --lr 1e-4 \\\n",
    "    --weight_decay 0.01 \\\n",
    "    --warmup_ratio 0.06 \\\n",
    "    --label_list 'COURT' 'PETITIONER' 'RESPONDENT' 'JUDGE' 'DATE' 'ORG' 'GPE' 'STATUTE' 'PROVISION' 'PRECEDENT' 'CASE_NUMBER' 'WITNESS' 'OTHER_PERSON' 'LAWYER' \\\n",
    "    --model_list 'studio-ousia/mluke-base' 'nlpaueb/legal-bert-base-uncased'\n",
    "    # --resume_checkpoint # Remove comment to recover from checkpoint in folder \"results\""
   ]
  },
  {
   "cell_type": "markdown",
   "metadata": {},
   "source": [
    "## Train model un multilanguage dataset"
   ]
  },
  {
   "cell_type": "code",
   "execution_count": null,
   "metadata": {},
   "outputs": [],
   "source": [
    "!source NER/bin/activate; cd DNLP-2023-24-Legal-NER/multilingual-extension; python3 main.py \\\n",
    "    --ds_train_path ../datasets/multilingual/mul_train.json \\\n",
    "    --ds_valid_path ../datasets/multilingual/mul_val.json \\\n",
    "    --output_folder results/ \\\n",
    "    --batch 32 \\\n",
    "    --num_epochs 5 \\\n",
    "    --lr 1e-4 \\\n",
    "    --weight_decay 0.01 \\\n",
    "    --warmup_ratio 0.06 \\\n",
    "    --label_list 'PER' 'ORG' 'LOC' 'TIME' 'LEGAL' \\\n",
    "    --model_list 'studio-ousia/mluke-base' \\\n",
    "    # --resume_checkpoint # Remove comment to recover from checkpoint in folder \"results\""
   ]
  }
 ],
 "metadata": {
  "kernelspec": {
   "display_name": "Python 3",
   "language": "python",
   "name": "python3"
  },
  "language_info": {
   "codemirror_mode": {
    "name": "ipython",
    "version": 3
   },
   "file_extension": ".py",
   "mimetype": "text/x-python",
   "name": "python",
   "nbconvert_exporter": "python",
   "pygments_lexer": "ipython3",
   "version": "3.9.6"
  }
 },
 "nbformat": 4,
 "nbformat_minor": 2
}
